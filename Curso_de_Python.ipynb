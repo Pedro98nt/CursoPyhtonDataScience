{
  "nbformat": 4,
  "nbformat_minor": 0,
  "metadata": {
    "colab": {
      "provenance": [],
      "authorship_tag": "ABX9TyPUDCDPXYmUxkOZvdCOV1sZ",
      "include_colab_link": true
    },
    "kernelspec": {
      "name": "python3",
      "display_name": "Python 3"
    },
    "language_info": {
      "name": "python"
    }
  },
  "cells": [
    {
      "cell_type": "markdown",
      "metadata": {
        "id": "view-in-github",
        "colab_type": "text"
      },
      "source": [
        "<a href=\"https://colab.research.google.com/github/Pedro98nt/CursoPyhtonDataScience/blob/main/Curso_de_Python.ipynb\" target=\"_parent\"><img src=\"https://colab.research.google.com/assets/colab-badge.svg\" alt=\"Open In Colab\"/></a>"
      ]
    },
    {
      "cell_type": "markdown",
      "source": [
        "# **Logica de programação em Python:**"
      ],
      "metadata": {
        "id": "XBbi4J2n3yc0"
      }
    },
    {
      "cell_type": "code",
      "source": [
        "print(\"ola mundo \")"
      ],
      "metadata": {
        "colab": {
          "base_uri": "https://localhost:8080/"
        },
        "id": "Ukb2b8WU3xkF",
        "outputId": "141f8efc-b3b8-46b5-a736-6296917c8b7a"
      },
      "execution_count": null,
      "outputs": [
        {
          "output_type": "stream",
          "name": "stdout",
          "text": [
            "ola mundo \n"
          ]
        }
      ]
    },
    {
      "cell_type": "code",
      "source": [
        "\"pedro soares\""
      ],
      "metadata": {
        "colab": {
          "base_uri": "https://localhost:8080/",
          "height": 35
        },
        "id": "ErKpMk6o53sb",
        "outputId": "1b4dcd9a-16d2-49d3-bc25-e3194839e05d"
      },
      "execution_count": null,
      "outputs": [
        {
          "output_type": "execute_result",
          "data": {
            "text/plain": [
              "'pedro soares'"
            ],
            "application/vnd.google.colaboratory.intrinsic+json": {
              "type": "string"
            }
          },
          "metadata": {},
          "execution_count": 2
        }
      ]
    },
    {
      "cell_type": "markdown",
      "source": [
        "variaveis"
      ],
      "metadata": {
        "id": "cKg3Mh6p6H76"
      }
    },
    {
      "cell_type": "code",
      "source": [
        "nome = 'Pedro'"
      ],
      "metadata": {
        "id": "M8RyLI5058iE"
      },
      "execution_count": null,
      "outputs": []
    },
    {
      "cell_type": "code",
      "source": [
        "nome"
      ],
      "metadata": {
        "colab": {
          "base_uri": "https://localhost:8080/",
          "height": 35
        },
        "id": "_3cxKJi66QI6",
        "outputId": "6bda7ca4-7242-4fbc-f895-089a3c042c4a"
      },
      "execution_count": null,
      "outputs": [
        {
          "output_type": "execute_result",
          "data": {
            "text/plain": [
              "'Pedro'"
            ],
            "application/vnd.google.colaboratory.intrinsic+json": {
              "type": "string"
            }
          },
          "metadata": {},
          "execution_count": 4
        }
      ]
    },
    {
      "cell_type": "code",
      "source": [
        "idade= 28"
      ],
      "metadata": {
        "id": "HDvsXAOU6R_q"
      },
      "execution_count": null,
      "outputs": []
    },
    {
      "cell_type": "code",
      "source": [
        "idade"
      ],
      "metadata": {
        "colab": {
          "base_uri": "https://localhost:8080/"
        },
        "id": "byG-MG9f6Vec",
        "outputId": "940676c8-fc29-4c88-b960-c1e1acf3dae9"
      },
      "execution_count": null,
      "outputs": [
        {
          "output_type": "execute_result",
          "data": {
            "text/plain": [
              "28"
            ]
          },
          "metadata": {},
          "execution_count": 6
        }
      ]
    },
    {
      "cell_type": "markdown",
      "source": [
        "Função "
      ],
      "metadata": {
        "id": "bxOLya0n6fQO"
      }
    },
    {
      "cell_type": "code",
      "source": [
        "print('meu nome  e o pedro')"
      ],
      "metadata": {
        "colab": {
          "base_uri": "https://localhost:8080/"
        },
        "id": "d5f4pg-P6i17",
        "outputId": "8ed17ee4-d145-4b8c-9fce-1bc70513e4db"
      },
      "execution_count": null,
      "outputs": [
        {
          "output_type": "stream",
          "name": "stdout",
          "text": [
            "meu nome  e o pedro\n"
          ]
        }
      ]
    },
    {
      "cell_type": "code",
      "source": [
        "print(f'o nome e {nome} e sua idade {idade}')"
      ],
      "metadata": {
        "colab": {
          "base_uri": "https://localhost:8080/"
        },
        "id": "3boBheH06xgf",
        "outputId": "7851a3bb-e608-409b-cea4-bff14716995c"
      },
      "execution_count": null,
      "outputs": [
        {
          "output_type": "stream",
          "name": "stdout",
          "text": [
            "o nome e Pedro e sua idade 28\n"
          ]
        }
      ]
    },
    {
      "cell_type": "markdown",
      "source": [
        "# Criando minha primeira função"
      ],
      "metadata": {
        "id": "UMXVnCTs7Jio"
      }
    },
    {
      "cell_type": "code",
      "source": [
        "def saudacao ():\n",
        "  nome = input(' Qual e o seu nome ?')\n",
        "  print(f'ola {nome}')\n",
        "\n"
      ],
      "metadata": {
        "id": "l3IpAjDa7Fc7"
      },
      "execution_count": null,
      "outputs": []
    },
    {
      "cell_type": "code",
      "source": [
        "saudacao()"
      ],
      "metadata": {
        "colab": {
          "base_uri": "https://localhost:8080/"
        },
        "id": "eldL3roC8T5C",
        "outputId": "9efd72c0-0d8e-4ba7-c4fa-f6eef41ea8b7"
      },
      "execution_count": null,
      "outputs": [
        {
          "output_type": "stream",
          "name": "stdout",
          "text": [
            " Qual e o seu nome ?pedro\n",
            "ola pedro\n"
          ]
        }
      ]
    },
    {
      "cell_type": "code",
      "source": [
        "def nome_completo():\n",
        " primeiro_nome = input('Qual seu primeiro nome? ')\n",
        " sobrenome = input('Qual seu sobrenome? ')\n",
        " nome_inteiro = primeiro_nome + ' ' + sobrenome\n",
        " print(nome_inteiro)\n",
        "\n",
        "nome_completo()\n"
      ],
      "metadata": {
        "colab": {
          "base_uri": "https://localhost:8080/"
        },
        "id": "7ZPP4TIu9e-4",
        "outputId": "424628ed-b636-4228-bc69-61289b236ce2"
      },
      "execution_count": null,
      "outputs": [
        {
          "output_type": "stream",
          "name": "stdout",
          "text": [
            "Qual seu primeiro nome? pedro\n",
            "Qual seu sobrenome? soares\n",
            "pedro soares\n"
          ]
        }
      ]
    },
    {
      "cell_type": "markdown",
      "source": [
        "# **Linguagem de alto nivel ⛹**"
      ],
      "metadata": {
        "id": "VsySDBto8lwL"
      }
    },
    {
      "cell_type": "code",
      "source": [],
      "metadata": {
        "id": "6SvT-BnL84Z6"
      },
      "execution_count": null,
      "outputs": []
    }
  ]
}